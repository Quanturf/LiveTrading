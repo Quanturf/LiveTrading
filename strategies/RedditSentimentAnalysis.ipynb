{
 "cells": [
  {
   "attachments": {},
   "cell_type": "markdown",
   "metadata": {},
   "source": [
    "<h3>Reddit Sentiment Analysis</h3>"
   ]
  },
  {
   "cell_type": "code",
   "execution_count": null,
   "metadata": {},
   "outputs": [],
   "source": [
    "import praw\n",
    "import pandas as pd\n",
    "\n",
    "from nltk.sentiment.vader import SentimentIntensityAnalyzer as SIA\n",
    "from alpaca.trading.client import TradingClient\n",
    "from alpaca.trading.requests import MarketOrderRequest\n",
    "from alpaca.trading.enums import OrderSide, TimeInForce\n",
    "\n",
    "import asyncio\n",
    "import nest_asyncio\n",
    "nest_asyncio.apply()"
   ]
  },
  {
   "cell_type": "code",
   "execution_count": null,
   "metadata": {},
   "outputs": [],
   "source": [
    "# Set up Alpaca-py Trading Client\n",
    "API_KEY=\"\"\n",
    "SECRET_KEY=\"\"\n",
    "\n",
    "trading_client = TradingClient(API_KEY, SECRET_KEY)"
   ]
  },
  {
   "cell_type": "code",
   "execution_count": null,
   "metadata": {},
   "outputs": [],
   "source": [
    "# Initialize necessary data structures, variables, and SIA\n",
    "import nltk\n",
    "nltk.download('vader_lexicon')\n",
    "sia = SIA()"
   ]
  },
  {
   "cell_type": "code",
   "execution_count": null,
   "metadata": {},
   "outputs": [],
   "source": [
    "headlines = set()\n",
    "scores = []\n",
    "\n",
    "subr_to_asset = {\n",
    "    'ethereum': 'ETH/USD'\n",
    "}"
   ]
  },
  {
   "cell_type": "code",
   "execution_count": null,
   "metadata": {},
   "outputs": [],
   "source": [
    "subreddit = 'ethereum'\n",
    "wait = 3000"
   ]
  },
  {
   "cell_type": "code",
   "execution_count": null,
   "metadata": {},
   "outputs": [],
   "source": [
    "CLIENT_ID = \"\"\n",
    "CLIENT_SECRET = \"\"\n",
    "\n",
    "# Initialize praw to scrape reddit data\n",
    "reddit = praw.Reddit(\n",
    "    client_id=CLIENT_ID,\n",
    "    client_secret=CLIENT_SECRET,\n",
    "    password=\"\",\n",
    "    user_agent='trading by u/notlarry12',\n",
    "    username=\"\",\n",
    ")"
   ]
  },
  {
   "cell_type": "code",
   "execution_count": null,
   "metadata": {},
   "outputs": [],
   "source": [
    "# Handle main async loop and tasks\n",
    "async def main():\n",
    "    while True:\n",
    "        task1 = loop.create_task(get_headlines())\n",
    "        await asyncio.wait([task1])\n",
    "\n",
    "        task2 = loop.create_task(calculate_polarity())\n",
    "        await asyncio.wait([task2])\n",
    "\n",
    "        task3 = loop.create_task(trade(subreddit))\n",
    "        await asyncio.wait([task3])\n",
    "        await asyncio.sleep(wait)\n",
    "\n",
    "        print(\"Waiting for \" + str(wait) + \" seconds\")"
   ]
  },
  {
   "cell_type": "code",
   "execution_count": null,
   "metadata": {},
   "outputs": [],
   "source": [
    "# Using reddit client, fetching new headlines within the given subreddit\n",
    "async def get_headlines():\n",
    "    try:\n",
    "        for submission in reddit.subreddit(subreddit).new(limit=None):\n",
    "            headlines.add(submission.title)\n",
    "            print(\"headlines: \" + list(headlines))\n",
    "        print(\"got headlines\")\n",
    "        return True\n",
    "\n",
    "    except Exception as e:\n",
    "        print(\"There was an issue scraping reddit data: {0}\".format(e))\n",
    "        return False"
   ]
  },
  {
   "cell_type": "code",
   "execution_count": null,
   "metadata": {},
   "outputs": [],
   "source": [
    "# Scoring the polarity of each headline that we fetch\n",
    "async def calculate_polarity():\n",
    "    try:\n",
    "        for line in headlines:\n",
    "            pol_score = sia.polarity_scores(line)\n",
    "            pol_score['headline'] = line\n",
    "            scores.append(pol_score)\n",
    "        print(\"calculated polarity\", scores)\n",
    "        print(\"calculated polarity\")\n",
    "        return True\n",
    "    except Exception as e:\n",
    "        print(\"There was an issue calculating polarity: {}\")\n",
    "        return True"
   ]
  },
  {
   "cell_type": "code",
   "execution_count": null,
   "metadata": {},
   "outputs": [],
   "source": [
    "# Helper function to place orders\n",
    "def post_order(subreddit: str):\n",
    "    try:\n",
    "        market_order_data = MarketOrderRequest(\n",
    "            symbol=subr_to_asset[subreddit],\n",
    "            qty=0.01,\n",
    "            side=OrderSide.BUY,\n",
    "            time_in_force=TimeInForce.DAY)\n",
    "\n",
    "        market_order = trading_client.submit_order(\n",
    "            order_data=market_order_data)\n",
    "\n",
    "        print(\"Bought {}\". subr_to_asset(subreddit))\n",
    "        return market_order\n",
    "\n",
    "    except Exception as e:\n",
    "        print(\"Issue posting order to Alpaca: {}\".format(e))\n",
    "        return False"
   ]
  },
  {
   "cell_type": "code",
   "execution_count": null,
   "metadata": {},
   "outputs": [],
   "source": [
    "# Placing trades based on the polarity of our headlines\n",
    "async def trade(sub: str):\n",
    "    mean = pd.DataFrame.from_records(scores).mean()\n",
    "    compound_score = mean['compound']\n",
    "    if compound_score > 0.05:\n",
    "        post_order(sub)\n",
    "    print(\"traded\")\n",
    "    return True"
   ]
  },
  {
   "cell_type": "code",
   "execution_count": null,
   "metadata": {},
   "outputs": [],
   "source": [
    "# Setup asyncio loop\n",
    "loop = asyncio.get_event_loop()\n",
    "loop.run_until_complete(main())\n",
    "loop.close()"
   ]
  }
 ],
 "metadata": {
  "kernelspec": {
   "display_name": "venv",
   "language": "python",
   "name": "python3"
  },
  "language_info": {
   "codemirror_mode": {
    "name": "ipython",
    "version": 3
   },
   "file_extension": ".py",
   "mimetype": "text/x-python",
   "name": "python",
   "nbconvert_exporter": "python",
   "pygments_lexer": "ipython3",
   "version": "3.11.3"
  },
  "orig_nbformat": 4
 },
 "nbformat": 4,
 "nbformat_minor": 2
}
