{
 "cells": [
  {
   "attachments": {},
   "cell_type": "markdown",
   "metadata": {},
   "source": [
    "<h3>Web Socket Momentum</h3>"
   ]
  },
  {
   "cell_type": "code",
   "execution_count": null,
   "metadata": {},
   "outputs": [],
   "source": [
    "# Import Dependencies\n",
    "import numpy as np\n",
    "import pandas as pd\n",
    "import alpaca_trade_api as tradeapi\n",
    "import datetime as dt\n",
    "import nest_asyncio\n",
    "nest_asyncio.apply()"
   ]
  },
  {
   "cell_type": "code",
   "execution_count": null,
   "metadata": {},
   "outputs": [],
   "source": [
    "# API Credentials\n",
    "API_KEY=\"PKISARWUEDA9CM5IOPAT\"\n",
    "SECRET_KEY=\"r6pdv59RJU6ai0ZFSCEzbnodWWZb9Y9830gux6w6\"\n",
    "api = tradeapi.REST(API_KEY, SECRET_KEY,'https://paper-api.alpaca.markets')"
   ]
  },
  {
   "cell_type": "code",
   "execution_count": null,
   "metadata": {},
   "outputs": [],
   "source": [
    "# Date Variables\n",
    "start_date = dt.date.today() - dt.timedelta(days = 60)\n",
    "end_date = dt.date.today()"
   ]
  },
  {
   "cell_type": "code",
   "execution_count": null,
   "metadata": {},
   "outputs": [],
   "source": [
    "# Check Whether Account Currently Holds Symbol\n",
    "def check_positions(symbol):\n",
    "    positions = api.list_positions()\n",
    "    for p in positions:\n",
    "        if p.symbol == symbol:\n",
    "            return float(p.qty)\n",
    "    return 0"
   ]
  },
  {
   "cell_type": "code",
   "execution_count": null,
   "metadata": {},
   "outputs": [],
   "source": [
    "# Cross Sectional Momentum Bot Function\n",
    "def cross_sectional_momentum(bar):\n",
    "    try:\n",
    "        # Get the Latest Data\n",
    "        dataframe = pd.DataFrame()\n",
    "        symbols = ['BTCUSD','ETHUSD','DOGEUSD','SHIBUSD','MATICUSD','ALGOUSD','AVAXUSD','LINKUSD','SOLUSD']\n",
    "        for symbol in symbols:\n",
    "            data = api.get_crypto_bars(symbol, tradeapi.TimeFrame(1, tradeapi.TimeFrameUnit.Day), start=start_date, end=end_date, exchanges=['FTXU']).df['close']\n",
    "            data = pd.DataFrame(data).rename(columns={\"close\": str(symbol)})\n",
    "            dataframe = pd.concat([dataframe,data], axis=1, sort=False)\n",
    "\n",
    "        returns_data = dataframe.apply(func = lambda x: x.shift(-1)/x - 1, axis = 0)\n",
    "\n",
    "        # Calculate Momentum Dataframe\n",
    "        momentum_df = returns_data.apply(func = lambda x: x.shift(1)/x.shift(7) - 1, axis = 0)\n",
    "        momentum_df = momentum_df.rank(axis = 1)\n",
    "        for col in momentum_df.columns:\n",
    "            momentum_df[col] = np.where(momentum_df[col] > 8, 1, 0)\n",
    "\n",
    "        # Get Symbol with Highest Momentum\n",
    "        momentum_df['Buy'] = momentum_df.astype(bool).dot(momentum_df.columns)\n",
    "        buy_symbol = momentum_df['Buy'].iloc[-1]\n",
    "        old_symbol = momentum_df['Buy'].iloc[-2]\n",
    "\n",
    "        # Account Details\n",
    "        current_position = check_positions(symbol=buy_symbol)\n",
    "        old_position = check_positions(symbol=old_symbol)\n",
    "\n",
    "        # No Current Positions\n",
    "        if current_position == 0 and old_position == 0:\n",
    "            cash_balance = api.get_account().non_marginable_buying_power\n",
    "            api.submit_order(buy_symbol, notional=cash_balance, side='buy')\n",
    "            message = f'Symbol: {buy_symbol} | Side: Buy | Notional: {cash_balance}'\n",
    "            print(message)\n",
    "\n",
    "        # No Current Position and Yes Old Position\n",
    "        if current_position == 0 and old_position == 1:\n",
    "            api.close_position(old_position)\n",
    "            message = f'Symbol: {old_symbol} | Side: Sell'\n",
    "            print(message)\n",
    "\n",
    "            cash_balance = api.get_account().non_marginable_buying_power\n",
    "            api.submit_order(buy_symbol, notional=cash_balance, side='buy')\n",
    "            message = f'Symbol: {buy_symbol} | Side: Buy | Notional: {cash_balance}'\n",
    "            print(message)\n",
    "\n",
    "        print(\"-\"*20)\n",
    "\n",
    "    except Exception as e:\n",
    "        print (e)"
   ]
  },
  {
   "cell_type": "code",
   "execution_count": null,
   "metadata": {},
   "outputs": [],
   "source": [
    "# Create instance of Alpaca data streaming API\n",
    "alpaca_stream = tradeapi.Stream(API_KEY, SECRET_KEY, raw_data=True, crypto_exchanges=['FTXU'])"
   ]
  },
  {
   "cell_type": "code",
   "execution_count": null,
   "metadata": {},
   "outputs": [],
   "source": [
    "# Create handler for receiving live bar data\n",
    "async def on_crypto_bar(bar):\n",
    "    print(bar)\n",
    "    cross_sectional_momentum(bar)"
   ]
  },
  {
   "cell_type": "code",
   "execution_count": null,
   "metadata": {},
   "outputs": [],
   "source": [
    "# Subscribe to data and assign handler\n",
    "alpaca_stream.subscribe_crypto_daily_bars(on_crypto_bar, 'BTCUSD','ETHUSD','DOGEUSD','SHIBUSD','MATICUSD','ALGOUSD','AVAXUSD','LINKUSD','SOLUSD')\n",
    "\n",
    "# Start streaming of data\n",
    "alpaca_stream.run()"
   ]
  }
 ],
 "metadata": {
  "kernelspec": {
   "display_name": "venv",
   "language": "python",
   "name": "python3"
  },
  "language_info": {
   "codemirror_mode": {
    "name": "ipython",
    "version": 3
   },
   "file_extension": ".py",
   "mimetype": "text/x-python",
   "name": "python",
   "nbconvert_exporter": "python",
   "pygments_lexer": "ipython3",
   "version": "3.11.3"
  },
  "orig_nbformat": 4
 },
 "nbformat": 4,
 "nbformat_minor": 2
}
