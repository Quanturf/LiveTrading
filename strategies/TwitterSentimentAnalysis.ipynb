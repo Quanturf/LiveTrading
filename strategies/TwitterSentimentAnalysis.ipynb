{
 "cells": [
  {
   "attachments": {},
   "cell_type": "markdown",
   "metadata": {},
   "source": [
    "<h3>Twitter Sentiment Analysis</h3>"
   ]
  },
  {
   "cell_type": "code",
   "execution_count": null,
   "metadata": {},
   "outputs": [],
   "source": [
    "# %%capture\n",
    "# !pip install alpaca-py\n",
    "# !pip install tweepy\n",
    "# !pip install nltk"
   ]
  },
  {
   "cell_type": "code",
   "execution_count": null,
   "metadata": {},
   "outputs": [],
   "source": [
    "# Import dependencies\n",
    "import re\n",
    "import tweepy\n",
    "import pandas as pd\n",
    "from alpaca.data.live import CryptoDataStream\n",
    "from alpaca.trading.client import TradingClient\n",
    "from alpaca.trading.requests import MarketOrderRequest\n",
    "from alpaca.trading.enums import OrderSide, TimeInForce\n",
    "from nltk.sentiment.vader import SentimentIntensityAnalyzer\n",
    "import nest_asyncio\n",
    "nest_asyncio.apply()"
   ]
  },
  {
   "cell_type": "code",
   "execution_count": null,
   "metadata": {},
   "outputs": [],
   "source": [
    "# Alpaca API Credentials\n",
    "API_KEY=\"\"\n",
    "SECRET_KEY=\"\"\n",
    "trading_client = TradingClient(API_KEY, SECRET_KEY, paper=True)\n",
    "crypto_stream = CryptoDataStream(API_KEY, SECRET_KEY, raw_data=True)\n",
    "\n",
    "# Twitter API Credentials\n",
    "consumer_key = \"\"\n",
    "consumer_secret = \"\"\n",
    "access_token = \"\"\n",
    "access_token_secret = \"\"\n",
    "auth = tweepy.OAuthHandler(consumer_key, consumer_secret)\n",
    "auth.set_access_token(access_token, access_token_secret)\n",
    "api = tweepy.API(auth)\n",
    "\n",
    "# Define variables\n",
    "num_tweets = 50\n",
    "keyword = '$ETHUSD'\n",
    "keyword_to_asset = {\n",
    "    '$ETHUSD': 'ETHUSD'\n",
    "}"
   ]
  },
  {
   "cell_type": "code",
   "execution_count": null,
   "metadata": {},
   "outputs": [],
   "source": [
    "# Check whether account currently holds symbol\n",
    "def check_positions(symbol):\n",
    "    positions = trading_client.get_all_positions()\n",
    "    if symbol in str(positions):\n",
    "        return 1\n",
    "    return 0"
   ]
  },
  {
   "cell_type": "code",
   "execution_count": null,
   "metadata": {},
   "outputs": [],
   "source": [
    "# Clean the tweet content using regex\n",
    "def clean_tweet(tweet):\n",
    "    return ' '.join(re.sub(\"(@[A-Za-z0-9]+)|([^0-9A-Za-z \\t])|(\\w+:\\/\\/\\S+)\", \" \", tweet).split())"
   ]
  },
  {
   "cell_type": "code",
   "execution_count": null,
   "metadata": {},
   "outputs": [],
   "source": [
    "# Retrieve tweets from Twitter using keyword\n",
    "def get_tweets(query, count):\n",
    "    tweets = set()\n",
    "    fetched_tweets = api.search(q=query, count=count)\n",
    "    for tweet in fetched_tweets:\n",
    "        cleaned_tweet = clean_tweet(tweet.text)\n",
    "        if cleaned_tweet not in tweets:\n",
    "            tweets.add(cleaned_tweet)\n",
    "    return tweets"
   ]
  },
  {
   "cell_type": "code",
   "execution_count": null,
   "metadata": {},
   "outputs": [],
   "source": [
    "# Calculating the polarity of each tweet using nltk\n",
    "def calculate_polarity(tweets):\n",
    "    scores = []\n",
    "    for tweet in tweets:\n",
    "        pol_score = SentimentIntensityAnalyzer().polarity_scores(tweet)\n",
    "        pol_score['tweet'] = tweet\n",
    "        scores.append(pol_score)\n",
    "    return scores"
   ]
  },
  {
   "cell_type": "code",
   "execution_count": null,
   "metadata": {},
   "outputs": [],
   "source": [
    "# Placing trades based on the polarity of the tweets\n",
    "def twitter_bot(symbol, close, qty=10):\n",
    "    position = check_positions(symbol=symbol)\n",
    "    tweets = get_tweets(keyword, num_tweets)\n",
    "    scores = calculate_polarity(tweets)\n",
    "\n",
    "    mean = pd.DataFrame.from_records(scores).mean()\n",
    "    compound_score = mean['compound']\n",
    "    print (f\"Sentiment score: {round(compound_score, 3)}\")\n",
    "\n",
    "    if compound_score >= 0.05 and position==0:\n",
    "        market_order_data = MarketOrderRequest(\n",
    "            symbol=symbol,\n",
    "            qty=qty,\n",
    "            side=OrderSide.BUY,\n",
    "            time_in_force=TimeInForce.GTC)\n",
    "\n",
    "        trading_client.submit_order(\n",
    "            order_data=market_order_data)\n",
    "        print(f\"Bought {symbol} at approx. {close}\")\n",
    "\n",
    "    elif compound_score <= -0.05 and position==1:\n",
    "        trading_client.close_position(symbol_or_asset_id=symbol)\n",
    "        print(f\"Sold {symbol} at approx. {close}\")\n",
    "\n",
    "    return True"
   ]
  },
  {
   "cell_type": "code",
   "execution_count": null,
   "metadata": {},
   "outputs": [],
   "source": [
    "# Live streaming of crypto pricing data\n",
    "async def quote_data_handler(data):\n",
    "    close = data['c']\n",
    "    twitter_bot(keyword_to_asset[keyword], close, qty=10)\n",
    "\n",
    "crypto_stream.subscribe_bars(quote_data_handler, keyword_to_asset[keyword])\n",
    "crypto_stream.run()"
   ]
  }
 ],
 "metadata": {
  "kernelspec": {
   "display_name": "venv",
   "language": "python",
   "name": "python3"
  },
  "language_info": {
   "codemirror_mode": {
    "name": "ipython",
    "version": 3
   },
   "file_extension": ".py",
   "mimetype": "text/x-python",
   "name": "python",
   "nbconvert_exporter": "python",
   "pygments_lexer": "ipython3",
   "version": "3.11.3"
  },
  "orig_nbformat": 4
 },
 "nbformat": 4,
 "nbformat_minor": 2
}
